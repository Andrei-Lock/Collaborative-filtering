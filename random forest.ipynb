{
 "cells": [
  {
   "cell_type": "code",
   "execution_count": 1,
   "metadata": {},
   "outputs": [],
   "source": [
    "import pandas as pd\n",
    "import numpy as np\n",
    "import warnings; warnings.simplefilter('ignore')"
   ]
  },
  {
   "cell_type": "code",
   "execution_count": 2,
   "metadata": {},
   "outputs": [
    {
     "name": "stdout",
     "output_type": "stream",
     "text": [
      "Unique users count:  671\n",
      "Unique movies count:  9066\n",
      "DataFrame shape:  (100004, 3)\n"
     ]
    },
    {
     "data": {
      "text/html": [
       "<div>\n",
       "<style scoped>\n",
       "    .dataframe tbody tr th:only-of-type {\n",
       "        vertical-align: middle;\n",
       "    }\n",
       "\n",
       "    .dataframe tbody tr th {\n",
       "        vertical-align: top;\n",
       "    }\n",
       "\n",
       "    .dataframe thead th {\n",
       "        text-align: right;\n",
       "    }\n",
       "</style>\n",
       "<table border=\"1\" class=\"dataframe\">\n",
       "  <thead>\n",
       "    <tr style=\"text-align: right;\">\n",
       "      <th></th>\n",
       "      <th>userId</th>\n",
       "      <th>movieId</th>\n",
       "      <th>rating</th>\n",
       "    </tr>\n",
       "  </thead>\n",
       "  <tbody>\n",
       "    <tr>\n",
       "      <th>0</th>\n",
       "      <td>1</td>\n",
       "      <td>31</td>\n",
       "      <td>2.5</td>\n",
       "    </tr>\n",
       "    <tr>\n",
       "      <th>1</th>\n",
       "      <td>1</td>\n",
       "      <td>1029</td>\n",
       "      <td>3.0</td>\n",
       "    </tr>\n",
       "    <tr>\n",
       "      <th>2</th>\n",
       "      <td>1</td>\n",
       "      <td>1061</td>\n",
       "      <td>3.0</td>\n",
       "    </tr>\n",
       "    <tr>\n",
       "      <th>3</th>\n",
       "      <td>1</td>\n",
       "      <td>1129</td>\n",
       "      <td>2.0</td>\n",
       "    </tr>\n",
       "    <tr>\n",
       "      <th>4</th>\n",
       "      <td>1</td>\n",
       "      <td>1172</td>\n",
       "      <td>4.0</td>\n",
       "    </tr>\n",
       "  </tbody>\n",
       "</table>\n",
       "</div>"
      ],
      "text/plain": [
       "   userId  movieId  rating\n",
       "0       1       31     2.5\n",
       "1       1     1029     3.0\n",
       "2       1     1061     3.0\n",
       "3       1     1129     2.0\n",
       "4       1     1172     4.0"
      ]
     },
     "execution_count": 2,
     "metadata": {},
     "output_type": "execute_result"
    }
   ],
   "source": [
    "ratings = pd.read_csv('./the-movies-dataset/ratings_small.csv', usecols=['userId', 'movieId', 'rating'])\n",
    "\n",
    "print('Unique users count: ', len(ratings['userId'].unique()))\n",
    "print('Unique movies count: ', len(ratings['movieId'].unique()))\n",
    "print('DataFrame shape: ', ratings.shape)\n",
    "\n",
    "ratings.head()"
   ]
  },
  {
   "cell_type": "code",
   "execution_count": 3,
   "metadata": {
    "scrolled": true
   },
   "outputs": [
    {
     "data": {
      "text/html": [
       "<div>\n",
       "<style scoped>\n",
       "    .dataframe tbody tr th:only-of-type {\n",
       "        vertical-align: middle;\n",
       "    }\n",
       "\n",
       "    .dataframe tbody tr th {\n",
       "        vertical-align: top;\n",
       "    }\n",
       "\n",
       "    .dataframe thead th {\n",
       "        text-align: right;\n",
       "    }\n",
       "</style>\n",
       "<table border=\"1\" class=\"dataframe\">\n",
       "  <thead>\n",
       "    <tr style=\"text-align: right;\">\n",
       "      <th></th>\n",
       "      <th>userId</th>\n",
       "      <th>movieId</th>\n",
       "      <th>rating</th>\n",
       "      <th>title</th>\n",
       "    </tr>\n",
       "  </thead>\n",
       "  <tbody>\n",
       "    <tr>\n",
       "      <th>0</th>\n",
       "      <td>1</td>\n",
       "      <td>1371</td>\n",
       "      <td>2.5</td>\n",
       "      <td>Rocky III</td>\n",
       "    </tr>\n",
       "    <tr>\n",
       "      <th>182</th>\n",
       "      <td>1</td>\n",
       "      <td>2294</td>\n",
       "      <td>2.0</td>\n",
       "      <td>Jay and Silent Bob Strike Back</td>\n",
       "    </tr>\n",
       "    <tr>\n",
       "      <th>235</th>\n",
       "      <td>1</td>\n",
       "      <td>2455</td>\n",
       "      <td>2.5</td>\n",
       "      <td>Confidentially Yours</td>\n",
       "    </tr>\n",
       "    <tr>\n",
       "      <th>47</th>\n",
       "      <td>1</td>\n",
       "      <td>1405</td>\n",
       "      <td>1.0</td>\n",
       "      <td>Greed</td>\n",
       "    </tr>\n",
       "    <tr>\n",
       "      <th>140</th>\n",
       "      <td>1</td>\n",
       "      <td>2193</td>\n",
       "      <td>2.0</td>\n",
       "      <td>My Tutor</td>\n",
       "    </tr>\n",
       "    <tr>\n",
       "      <th>93</th>\n",
       "      <td>1</td>\n",
       "      <td>2105</td>\n",
       "      <td>4.0</td>\n",
       "      <td>American Pie</td>\n",
       "    </tr>\n",
       "  </tbody>\n",
       "</table>\n",
       "</div>"
      ],
      "text/plain": [
       "     userId  movieId  rating                           title\n",
       "0         1     1371     2.5                       Rocky III\n",
       "182       1     2294     2.0  Jay and Silent Bob Strike Back\n",
       "235       1     2455     2.5            Confidentially Yours\n",
       "47        1     1405     1.0                           Greed\n",
       "140       1     2193     2.0                        My Tutor\n",
       "93        1     2105     4.0                    American Pie"
      ]
     },
     "execution_count": 3,
     "metadata": {},
     "output_type": "execute_result"
    }
   ],
   "source": [
    "tmp = pd.read_csv(\"./the-movies-dataset/movies_metadata_fixed.csv\", usecols=['id', 'title'])\n",
    "tmp.head()\n",
    "\n",
    "info = pd.merge(ratings, tmp, left_on='movieId', right_on='id').sort_values('userId')\n",
    "\n",
    "info = info.drop('id', 1)\n",
    "\n",
    "info.query(\"userId == 1\")"
   ]
  },
  {
   "cell_type": "code",
   "execution_count": 4,
   "metadata": {
    "scrolled": true
   },
   "outputs": [
    {
     "data": {
      "text/html": [
       "<div>\n",
       "<style scoped>\n",
       "    .dataframe tbody tr th:only-of-type {\n",
       "        vertical-align: middle;\n",
       "    }\n",
       "\n",
       "    .dataframe tbody tr th {\n",
       "        vertical-align: top;\n",
       "    }\n",
       "\n",
       "    .dataframe thead th {\n",
       "        text-align: right;\n",
       "    }\n",
       "</style>\n",
       "<table border=\"1\" class=\"dataframe\">\n",
       "  <thead>\n",
       "    <tr style=\"text-align: right;\">\n",
       "      <th></th>\n",
       "      <th>userId</th>\n",
       "      <th>movieId</th>\n",
       "      <th>rating</th>\n",
       "      <th>title</th>\n",
       "    </tr>\n",
       "  </thead>\n",
       "  <tbody>\n",
       "    <tr>\n",
       "      <th>0</th>\n",
       "      <td>1</td>\n",
       "      <td>1</td>\n",
       "      <td>2.5</td>\n",
       "      <td>Rocky III</td>\n",
       "    </tr>\n",
       "    <tr>\n",
       "      <th>182</th>\n",
       "      <td>1</td>\n",
       "      <td>2</td>\n",
       "      <td>2.0</td>\n",
       "      <td>Jay and Silent Bob Strike Back</td>\n",
       "    </tr>\n",
       "    <tr>\n",
       "      <th>235</th>\n",
       "      <td>1</td>\n",
       "      <td>3</td>\n",
       "      <td>2.5</td>\n",
       "      <td>Confidentially Yours</td>\n",
       "    </tr>\n",
       "    <tr>\n",
       "      <th>47</th>\n",
       "      <td>1</td>\n",
       "      <td>4</td>\n",
       "      <td>1.0</td>\n",
       "      <td>Greed</td>\n",
       "    </tr>\n",
       "    <tr>\n",
       "      <th>140</th>\n",
       "      <td>1</td>\n",
       "      <td>5</td>\n",
       "      <td>2.0</td>\n",
       "      <td>My Tutor</td>\n",
       "    </tr>\n",
       "  </tbody>\n",
       "</table>\n",
       "</div>"
      ],
      "text/plain": [
       "     userId  movieId  rating                           title\n",
       "0         1        1     2.5                       Rocky III\n",
       "182       1        2     2.0  Jay and Silent Bob Strike Back\n",
       "235       1        3     2.5            Confidentially Yours\n",
       "47        1        4     1.0                           Greed\n",
       "140       1        5     2.0                        My Tutor"
      ]
     },
     "execution_count": 4,
     "metadata": {},
     "output_type": "execute_result"
    }
   ],
   "source": [
    "movie_ids = info['movieId'].unique()\n",
    "\n",
    "def scale_movie_id(movie_id):\n",
    "    scaled = np.where(movie_ids == movie_id)[0][0] + 1\n",
    "    return scaled\n",
    "\n",
    "info['movieId'] = info['movieId'].apply(scale_movie_id)\n",
    "\n",
    "\n",
    "user_ids = info['userId'].unique()\n",
    "\n",
    "def scale_user_id(user_id):\n",
    "    scaled = np.where(user_ids == user_id)[0][0] + 1\n",
    "    return scaled\n",
    "\n",
    "info['userId'] = info['userId'].apply(scale_user_id)\n",
    "\n",
    "n_movies = len(info['movieId'].unique())\n",
    "n_users = len(info['userId'].unique())\n",
    "\n",
    "info.head()"
   ]
  },
  {
   "cell_type": "code",
   "execution_count": 5,
   "metadata": {},
   "outputs": [
    {
     "name": "stdout",
     "output_type": "stream",
     "text": [
      "Train shape:  (35995, 4)\n",
      "Test shape:  (8999, 4)\n"
     ]
    }
   ],
   "source": [
    "from sklearn.model_selection import train_test_split\n",
    "\n",
    "train_data, test_data = train_test_split(info, test_size=0.2)\n",
    "\n",
    "print('Train shape: ', train_data.shape)\n",
    "print('Test shape: ', test_data.shape)"
   ]
  },
  {
   "cell_type": "code",
   "execution_count": 6,
   "metadata": {},
   "outputs": [],
   "source": [
    "from sklearn.metrics import mean_squared_error\n",
    "from math import sqrt\n",
    "\n",
    "def rmse(prediction, ground_truth):\n",
    "    prediction = np.nan_to_num(prediction)[ground_truth.nonzero()].flatten()\n",
    "    ground_truth = np.nan_to_num(ground_truth)[ground_truth.nonzero()].flatten()\n",
    "    mse = mean_squared_error(ground_truth, prediction)\n",
    "    return sqrt(mse)"
   ]
  },
  {
   "cell_type": "code",
   "execution_count": 7,
   "metadata": {},
   "outputs": [],
   "source": [
    "train_data_matrix = np.zeros((n_users, n_movies))\n",
    "for line in train_data.itertuples():\n",
    "    train_data_matrix[line[1] - 1, line[2] - 1] = line[3]\n",
    "    \n",
    "test_data_matrix = np.zeros((n_users, n_movies))\n",
    "for line in test_data.itertuples():\n",
    "    test_data_matrix[line[1] - 1, line[2] - 1] = line[3]"
   ]
  },
  {
   "cell_type": "code",
   "execution_count": 8,
   "metadata": {},
   "outputs": [],
   "source": [
    "from  sklearn.metrics.pairwise import pairwise_distances\n",
    "pd.set_option('display.max_columns', 500)\n",
    "# считаем косинусное расстояние для пользователей и фильмов \n",
    "# (по строкам и по колонкам соотвественно).\n",
    "user_similarity = pairwise_distances(train_data_matrix, metric='cosine')\n",
    "item_similarity = pairwise_distances(train_data_matrix.T, metric='cosine')"
   ]
  },
  {
   "cell_type": "code",
   "execution_count": 9,
   "metadata": {
    "scrolled": true
   },
   "outputs": [
    {
     "name": "stdout",
     "output_type": "stream",
     "text": [
      "User-based CF RMSE:  1.5290458760586616\n",
      "Item-based CF RMSE:  1.5093303250774526\n"
     ]
    }
   ],
   "source": [
    "def k_fract_mean_predict(top):\n",
    "    top_similar = np.zeros((n_users, top))\n",
    "    \n",
    "    for i in range(n_users):\n",
    "        user_sim = user_similarity[i]\n",
    "        top_sim_users = user_sim.argsort()[1:top + 1]\n",
    "\n",
    "        top_similar[i] = top_sim_users\n",
    "\n",
    "    pred = np.zeros((n_users, n_movies))\n",
    "    \n",
    "    for i in range(n_users):\n",
    "        indexes = top_similar[i].astype(np.int) \n",
    "        numerator = user_similarity[i][indexes] \n",
    "        \n",
    "        mean_rating = np.array([x for x in train_data_matrix[i] if x > 0]).mean() \n",
    "        \n",
    "        diff_ratings = train_data_matrix[indexes] - train_data_matrix[indexes].mean() \n",
    "        \n",
    "        product = np.dot(numerator, diff_ratings)\n",
    "        \n",
    "        denominator = numerator.sum() \n",
    "      \n",
    "        pred[i] =  mean_rating + product / denominator\n",
    "        \n",
    "    return pred\n",
    "\n",
    "\n",
    "\n",
    "def k_fract_mean_predict_item(top):\n",
    "    top_similar = np.zeros((n_movies, top))\n",
    "    \n",
    "    for i in range(n_movies): \n",
    "        movie_sim = item_similarity[i]\n",
    "       \n",
    "        top_sim_movies = movie_sim.argsort()[1:top + 1]\n",
    "        \n",
    "        top_similar[i] = top_sim_movies\n",
    "           \n",
    "    pred = np.zeros((n_movies, n_users))\n",
    "    \n",
    "    for i in range(n_movies):\n",
    "        indexes = top_similar[i].astype(np.int)\n",
    "        numerator = item_similarity[i][indexes]\n",
    "\n",
    "        mean_rating = np.array([x for x in train_data_matrix.T[i] if x > 0]).mean()\n",
    "        \n",
    "        diff_ratings = train_data_matrix.T[indexes] - train_data_matrix.T[indexes].mean()\n",
    "        \n",
    "        product = np.dot(numerator, diff_ratings)\n",
    "        \n",
    "        denominator = numerator.sum()\n",
    "        \n",
    "        pred[i] = mean_rating + product / denominator\n",
    "        \n",
    "    return pred.T\n",
    "\n",
    "k_predict = k_fract_mean_predict(7)\n",
    "print('User-based CF RMSE: ', rmse(k_predict, test_data_matrix))\n",
    "\n",
    "k_predict_item = k_fract_mean_predict_item(7)\n",
    "print('Item-based CF RMSE: ', rmse(k_predict_item, test_data_matrix))"
   ]
  }
 ],
 "metadata": {
  "kernelspec": {
   "display_name": "Python 3 (ipykernel)",
   "language": "python",
   "name": "python3"
  },
  "language_info": {
   "codemirror_mode": {
    "name": "ipython",
    "version": 3
   },
   "file_extension": ".py",
   "mimetype": "text/x-python",
   "name": "python",
   "nbconvert_exporter": "python",
   "pygments_lexer": "ipython3",
   "version": "3.9.7"
  }
 },
 "nbformat": 4,
 "nbformat_minor": 2
}
